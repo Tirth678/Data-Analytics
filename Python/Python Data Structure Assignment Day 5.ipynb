{
 "cells": [
  {
   "cell_type": "markdown",
   "metadata": {
    "id": "jGxqF4aIjNSq"
   },
   "source": [
    "<a id='1'></a><center> <h3 style=\"background-color:orange; color:white\" ><br>Python Data Structures<br></h3>"
   ],
   "id": "53ec8b6acc2273ef"
  },
  {
   "cell_type": "markdown",
   "metadata": {},
   "source": [
    "# `Types of Data Structures:`\n",
    "* `List` | `Tuple`\n",
    "* `Set` | `Dictionary`"
   ],
   "id": "85815de45f815528"
  },
  {
   "cell_type": "markdown",
   "metadata": {},
   "source": [
    "|Data Structures type|Mutable|Comments|Indexing|Ordered|Duplicacy|\n",
    "|----|----|----|----|----|----|\n",
    "tuple ()|immutable|immutable version of list| possible|yes |allowed |\n",
    "list []|mutable|-|possible |yes | allowed |\n",
    "set {}|mutable| -|not |no |not |\n",
    "dict {key:value}|mutable|-|possible |no |not  |"
   ],
   "id": "91b2ae9141b6ade1"
  },
  {
   "cell_type": "markdown",
   "metadata": {},
   "source": [
    "💫 `immutable` => `can't be changed` <br>\n",
    "💫 `mutable` => `can be changed`"
   ],
   "id": "1083a1a704370a78"
  },
  {
   "cell_type": "code",
   "execution_count": null,
   "metadata": {},
   "outputs": [],
   "source": [],
   "id": "b4c808cfff751528"
  },
  {
   "cell_type": "markdown",
   "metadata": {
    "id": "Tyavi31ZjNSw"
   },
   "source": [
    "## Lists\n",
    "\n"
   ],
   "id": "625fd9bdcf61eca2"
  },
  {
   "cell_type": "markdown",
   "metadata": {
    "id": "tkDQdRdUjNSy"
   },
   "source": [
    "### Create an empty list with the name ‘a’, print the value of a and type(a).\n"
   ],
   "id": "3e593f9464f56e97"
  },
  {
   "cell_type": "code",
   "metadata": {
    "id": "a6i4yNGvjNSz",
    "ExecuteTime": {
     "end_time": "2025-01-03T15:46:04.101310Z",
     "start_time": "2025-01-03T15:46:04.090144Z"
    }
   },
   "source": [
    "# create empty list, name it 'a'\n",
    "print(\"hello world I am coming for you!!\")"
   ],
   "id": "fa1142501513afb9",
   "outputs": [
    {
     "name": "stdout",
     "output_type": "stream",
     "text": [
      "hello world I am coming for you!!\n"
     ]
    }
   ],
   "execution_count": 1
  },
  {
   "cell_type": "code",
   "execution_count": 3,
   "metadata": {
    "id": "M8FMNQEgjNS0",
    "outputId": "e614518d-cd99-4602-c082-7fcc1f9a0e3a"
   },
   "outputs": [],
   "source": [
    "# print the value of a\n",
    "\n"
   ],
   "id": "88f0dacfe2315a80"
  },
  {
   "cell_type": "code",
   "execution_count": 4,
   "metadata": {
    "id": "Jfc9sg1vjNS1",
    "outputId": "462464e7-25c1-4a23-80cb-f8c6cf93fb18"
   },
   "outputs": [],
   "source": [
    "# print the type of a\n"
   ],
   "id": "3596a54ac6e39ced"
  },
  {
   "cell_type": "markdown",
   "metadata": {
    "id": "UNpN9_w4jNS1"
   },
   "source": [
    "### Create a list , languages = ['R','Python', 'SAS', 'Scala', 42], "
   ],
   "id": "c6771a809860ba0e"
  },
  {
   "cell_type": "code",
   "execution_count": null,
   "metadata": {
    "id": "x-TG-vc5jNS2"
   },
   "outputs": [],
   "source": [],
   "id": "3400863da31e1e7a"
  },
  {
   "cell_type": "markdown",
   "metadata": {
    "id": "JDSIK8TbjNS3"
   },
   "source": [
    "Print the number of elements in the list"
   ],
   "id": "be913f952fc38df3"
  },
  {
   "cell_type": "code",
   "execution_count": null,
   "metadata": {
    "id": "C4lBMaM8jNS3",
    "outputId": "8f553c2e-3d4f-4a3c-ddb3-49b32c4d6fce"
   },
   "outputs": [],
   "source": [],
   "id": "832bed645a4f4b09"
  },
  {
   "cell_type": "markdown",
   "metadata": {
    "id": "EyzO_pcnjNS3"
   },
   "source": [
    "Using for loop iterate and print all the elements in the list"
   ],
   "id": "456158444df08d0a"
  },
  {
   "cell_type": "code",
   "execution_count": null,
   "metadata": {
    "id": "TyM54ydsjNS4",
    "outputId": "a83aecf6-2a59-4d56-ee29-d0c3f0711bc4"
   },
   "outputs": [],
   "source": [
    "\n",
    "\n"
   ],
   "id": "3e60fe95c07c0dfe"
  },
  {
   "cell_type": "markdown",
   "metadata": {
    "id": "eC1fqz9LjNS4"
   },
   "source": [
    "Select the second item, 'Python' and store it in a new variable named 'temp'"
   ],
   "id": "532af47141cdd062"
  },
  {
   "cell_type": "code",
   "execution_count": null,
   "metadata": {
    "id": "KY0KhRlOjNS4"
   },
   "outputs": [],
   "source": [],
   "id": "725efe4cc29e5266"
  },
  {
   "cell_type": "markdown",
   "metadata": {
    "id": "breORMa_jNS4"
   },
   "source": [
    "Print the value of temp and type(temp)"
   ],
   "id": "a1cb5f8bd3a6441a"
  },
  {
   "cell_type": "code",
   "execution_count": null,
   "metadata": {
    "id": "MbvX2aIgjNS5",
    "outputId": "f8ec4c46-26d8-4822-c3c7-b18a6cc7f149"
   },
   "outputs": [],
   "source": [
    "\n",
    "\n"
   ],
   "id": "b3eac519bc3487ae"
  },
  {
   "cell_type": "markdown",
   "metadata": {
    "id": "I4MrKlAUjNS5"
   },
   "source": [
    "Append the element 'Java' in the list"
   ],
   "id": "43ed8b1ccbb2bec5"
  },
  {
   "cell_type": "code",
   "execution_count": null,
   "metadata": {
    "id": "rOtqZY6PjNS6"
   },
   "outputs": [],
   "source": [
    "\n"
   ],
   "id": "713191ae4e4375b8"
  },
  {
   "cell_type": "markdown",
   "metadata": {
    "id": "ksEn8qvFjNS6"
   },
   "source": [
    "Remove the element 42 from the list and print the list"
   ],
   "id": "122eedbe11213e8"
  },
  {
   "cell_type": "code",
   "execution_count": null,
   "metadata": {
    "id": "Lxuzfc1bjNS6",
    "outputId": "71e5abaf-0020-44d5-af96-9b6f832ce001"
   },
   "outputs": [],
   "source": [
    "\n",
    "\n"
   ],
   "id": "9cb1265c439044a2"
  },
  {
   "cell_type": "markdown",
   "metadata": {
    "id": "19MjI0w6jNS6"
   },
   "source": [
    "### Create a list, colors = [‘Red’, ‘Blue’, ‘White’]"
   ],
   "id": "7d16a446067ee2ed"
  },
  {
   "cell_type": "code",
   "execution_count": null,
   "metadata": {
    "id": "Z1lMzdbWjNS7"
   },
   "outputs": [],
   "source": [],
   "id": "3c55fa8df8fbb7d9"
  },
  {
   "cell_type": "markdown",
   "metadata": {
    "id": "VAqLj5R3jNS7"
   },
   "source": [
    "Append the element 'Black' to colors"
   ],
   "id": "e71863eb7d9cc4dd"
  },
  {
   "cell_type": "code",
   "execution_count": null,
   "metadata": {
    "id": "gvb5iC7ljNS7"
   },
   "outputs": [],
   "source": [
    "\n",
    "\n"
   ],
   "id": "36cb43980f8806fd"
  },
  {
   "cell_type": "markdown",
   "metadata": {
    "id": "MFWIzVcvjNS7"
   },
   "source": [
    "Append the color 'Orange' to second position (index=1) and print the list"
   ],
   "id": "942dae4a6cdeaa30"
  },
  {
   "cell_type": "code",
   "execution_count": null,
   "metadata": {
    "id": "Fb6YZDSNjNS8"
   },
   "outputs": [],
   "source": [
    "\n",
    "\n"
   ],
   "id": "40753447d59feb98"
  },
  {
   "cell_type": "markdown",
   "metadata": {
    "id": "8DWB76AOjNS8"
   },
   "source": [
    "Print the list\n"
   ],
   "id": "3d0cd23c73435e6a"
  },
  {
   "cell_type": "code",
   "execution_count": null,
   "metadata": {
    "id": "0ldkGCozjNS8",
    "outputId": "0a5cb8e4-f656-4122-b50a-e7716ef09086"
   },
   "outputs": [],
   "source": [],
   "id": "6d53c90b18463b34"
  },
  {
   "cell_type": "markdown",
   "metadata": {
    "id": "WfFfxvLKjNS8"
   },
   "source": [
    "Create another list, colors2 = [‘Grey’, ‘Sky Blue’]"
   ],
   "id": "b65bc088b0ec96d3"
  },
  {
   "cell_type": "code",
   "execution_count": null,
   "metadata": {
    "id": "onZEiwdUjNS8"
   },
   "outputs": [],
   "source": [],
   "id": "c687ec66fd4a8e6c"
  },
  {
   "cell_type": "markdown",
   "metadata": {
    "id": "MrNQk6uKjNS8"
   },
   "source": [
    "Add the elements of colors2 to colors using extend function in the list"
   ],
   "id": "567ce898e635a33c"
  },
  {
   "cell_type": "code",
   "execution_count": null,
   "metadata": {
    "id": "Hr1Eu88OjNS9"
   },
   "outputs": [],
   "source": [],
   "id": "194f138a9f4ce21d"
  },
  {
   "cell_type": "markdown",
   "metadata": {
    "id": "u0KDeU20jNS9"
   },
   "source": [
    "Print len of colors and its elements"
   ],
   "id": "84be0508a9d0b946"
  },
  {
   "cell_type": "code",
   "execution_count": null,
   "metadata": {
    "id": "bnBmsCg2jNS9",
    "outputId": "f126519a-bafd-4438-fe21-af7586b5740d"
   },
   "outputs": [],
   "source": [
    "\n",
    "\n"
   ],
   "id": "19196082e21dcad9"
  },
  {
   "cell_type": "markdown",
   "metadata": {
    "id": "vJ7YqokSjNS9"
   },
   "source": [
    "Sort the list and print it."
   ],
   "id": "568b90e4a0288d61"
  },
  {
   "cell_type": "code",
   "execution_count": null,
   "metadata": {
    "id": "X14C-1PtjNS9",
    "outputId": "02524dae-3592-47e2-98b0-77501aa15b64"
   },
   "outputs": [],
   "source": [
    "\n",
    "\n"
   ],
   "id": "5070d306de82474d"
  },
  {
   "cell_type": "markdown",
   "metadata": {
    "id": "MdN5B9F9jNS-"
   },
   "source": [
    "### Create a string, sent = ‘Coronavirus Caused Lockdowns Around The World.”"
   ],
   "id": "b4a775c3ee5ca2de"
  },
  {
   "cell_type": "code",
   "execution_count": null,
   "metadata": {
    "id": "j4JUR085jNS-"
   },
   "outputs": [],
   "source": [],
   "id": "6cd10e8e8719628f"
  },
  {
   "cell_type": "markdown",
   "metadata": {
    "id": "rcn18drOjNS-"
   },
   "source": [
    "Use split function to convert the string into a list of words and save it in variable words and print the same"
   ],
   "id": "f8b01adabd69aad8"
  },
  {
   "cell_type": "code",
   "execution_count": null,
   "metadata": {
    "id": "fjiKSboajNS-",
    "outputId": "b6bfb22e-147a-4d90-9428-d321d9824589"
   },
   "outputs": [],
   "source": [
    "\n",
    "\n"
   ],
   "id": "3915fe8096b5a64c"
  },
  {
   "cell_type": "markdown",
   "metadata": {
    "id": "rowxhN26jNS_"
   },
   "source": [
    "Convert each word in the list to lower case and store it in variable words_lower. \n",
    "Print words_lower"
   ],
   "id": "15b88d628a021277"
  },
  {
   "cell_type": "code",
   "execution_count": null,
   "metadata": {
    "id": "LuzAECOVjNS_",
    "outputId": "d2c5bbbe-af46-4659-fdcb-d5de59d24099"
   },
   "outputs": [],
   "source": [
    "\n",
    "\n"
   ],
   "id": "16364483e2a3a6ef"
  },
  {
   "cell_type": "markdown",
   "metadata": {
    "id": "zznwP-l9jNS_"
   },
   "source": [
    "Check whether ‘country’ is in the list"
   ],
   "id": "aaf516d10c2b117"
  },
  {
   "cell_type": "code",
   "execution_count": null,
   "metadata": {
    "id": "y-U1felnjNS_",
    "outputId": "1e5fb9dd-4add-4438-97da-60db75ce0fce"
   },
   "outputs": [],
   "source": [],
   "id": "99ffee1e44776d9c"
  },
  {
   "cell_type": "markdown",
   "metadata": {
    "id": "AZMvSVKWjNS_"
   },
   "source": [
    "Remove the element ‘the’ from the list and print the list."
   ],
   "id": "ed64e8556ba95ee8"
  },
  {
   "cell_type": "code",
   "execution_count": null,
   "metadata": {
    "id": "bmDbpYd7jNS_",
    "outputId": "e96ddeed-af03-4d0c-a7dd-6c7a716e349a"
   },
   "outputs": [],
   "source": [
    "\n",
    "\n"
   ],
   "id": "7cee5ba4e39a76a0"
  },
  {
   "cell_type": "markdown",
   "metadata": {
    "id": "int3gJc0jNS_"
   },
   "source": [
    "Select the first 4 words from the list words_lower using slicing and store them in a new variable x4"
   ],
   "id": "a5abc5aa7d99e01f"
  },
  {
   "cell_type": "code",
   "execution_count": null,
   "metadata": {
    "id": "fXOJmYI1jNTA"
   },
   "outputs": [],
   "source": [],
   "id": "8f9b65ffb38dcac6"
  },
  {
   "cell_type": "code",
   "execution_count": 5,
   "metadata": {
    "id": "2Kb_1V9HjNTA",
    "outputId": "49b4815f-910d-45d2-da69-6be48927e099"
   },
   "outputs": [],
   "source": [
    "# print x4\n",
    "\n"
   ],
   "id": "f97adf6fee529af3"
  },
  {
   "cell_type": "markdown",
   "metadata": {
    "id": "3HgP3nUmjNTA"
   },
   "source": [
    "Convert the list of elements to single string using join function and print it"
   ],
   "id": "134b9900d18b27a4"
  },
  {
   "cell_type": "code",
   "execution_count": null,
   "metadata": {
    "id": "hiXO7ekhjNTA",
    "outputId": "db0f6673-174f-4bee-f6c5-c7e7d4f4612b"
   },
   "outputs": [],
   "source": [
    "\n"
   ],
   "id": "7ef419b49ab3ecdc"
  },
  {
   "cell_type": "markdown",
   "metadata": {
    "id": "tW6We_kvjNTA"
   },
   "source": [
    "## Sets"
   ],
   "id": "7a5ac8e8dde01a36"
  },
  {
   "cell_type": "markdown",
   "metadata": {
    "id": "02qkte5xjNTA"
   },
   "source": [
    "### Create stud_grades = ['A','A','B','C','C','F']"
   ],
   "id": "c8f0928f74bb4377"
  },
  {
   "cell_type": "code",
   "execution_count": null,
   "metadata": {
    "id": "M5P_qZaTjNTB"
   },
   "outputs": [],
   "source": [],
   "id": "cc75a04ed0c12a2e"
  },
  {
   "cell_type": "markdown",
   "metadata": {
    "id": "XazCnMcBjNTB"
   },
   "source": [
    "Print the len of stud_grades"
   ],
   "id": "9de93c750035c1d4"
  },
  {
   "cell_type": "code",
   "execution_count": null,
   "metadata": {
    "id": "gMMJN-V5jNTB",
    "outputId": "ae1dee90-d009-4230-b7ae-8ea1ee32cbfa"
   },
   "outputs": [],
   "source": [
    "\n",
    "\n"
   ],
   "id": "e9f761a427d5393c"
  },
  {
   "cell_type": "markdown",
   "metadata": {
    "id": "ALm7hstGjNTB"
   },
   "source": [
    "Create a new variable, stud_grades_set = set(stud_grades)"
   ],
   "id": "7f13042e3ebfe111"
  },
  {
   "cell_type": "code",
   "execution_count": null,
   "metadata": {},
   "outputs": [],
   "source": [],
   "id": "e5017ac44a5c1779"
  },
  {
   "cell_type": "markdown",
   "metadata": {
    "id": "JJESkQiJjNTB"
   },
   "source": [
    "Print stud_grades_set. "
   ],
   "id": "b3498723e0be4a2f"
  },
  {
   "cell_type": "code",
   "execution_count": null,
   "metadata": {
    "id": "Q-daiiLPjNTB",
    "outputId": "9b37d1b8-7765-4564-f706-a4f9482b7368"
   },
   "outputs": [],
   "source": [
    "\n",
    "\n"
   ],
   "id": "fdb3910dd635e513"
  },
  {
   "cell_type": "markdown",
   "metadata": {
    "id": "hNeCPwPOjNTC"
   },
   "source": [
    "print the type of stud_grades and stud_grades_set and print their corresponding elements. Try to understand the difference between them."
   ],
   "id": "8f3924c9a67495cf"
  },
  {
   "cell_type": "code",
   "execution_count": null,
   "metadata": {
    "id": "g7cntC0ojNTC",
    "outputId": "881a71e0-fd7e-4a3e-c340-95b6e736255a"
   },
   "outputs": [],
   "source": [
    "\n",
    "\n",
    "\n"
   ],
   "id": "1734e4c3fb6a8737"
  },
  {
   "cell_type": "markdown",
   "metadata": {
    "id": "WjzzJX8yjNTC"
   },
   "source": [
    "Add a new element ‘G’ to stud_grades_set"
   ],
   "id": "35ba3ec5ce6f81e2"
  },
  {
   "cell_type": "code",
   "execution_count": null,
   "metadata": {
    "id": "y80DVAlRjNTC"
   },
   "outputs": [],
   "source": [
    "\n"
   ],
   "id": "58d035f23d063ed7"
  },
  {
   "cell_type": "markdown",
   "metadata": {
    "id": "4TO9zhSJjNTC"
   },
   "source": [
    "Add element 'F' to stud_grades_set. and print it."
   ],
   "id": "50e7c989e3afd119"
  },
  {
   "cell_type": "code",
   "execution_count": null,
   "metadata": {
    "id": "Bh4tc1zCjNTC",
    "outputId": "67cdce79-7542-4536-8824-7c3f08855f76"
   },
   "outputs": [],
   "source": [
    "\n",
    "\n"
   ],
   "id": "d6788a4025019d6c"
  },
  {
   "cell_type": "markdown",
   "metadata": {
    "id": "FSgM3DD5jNTD"
   },
   "source": [
    "!!Did you notice? set doesn't add an element if it's already present in it, unlike lists."
   ],
   "id": "fbdb059ae544cffa"
  },
  {
   "cell_type": "markdown",
   "metadata": {
    "id": "tqz1GBM5jNTD"
   },
   "source": [
    "Remove ‘F’ from stud_grades_set"
   ],
   "id": "90d6bfceed5f1e4d"
  },
  {
   "cell_type": "code",
   "execution_count": null,
   "metadata": {
    "id": "zOLBDdk0jNTD"
   },
   "outputs": [],
   "source": [
    "\n",
    "\n"
   ],
   "id": "cb7c3127aae82807"
  },
  {
   "cell_type": "markdown",
   "metadata": {
    "id": "wxMXywoRjNTD"
   },
   "source": [
    "Print the elements and the length of stud_grades_set"
   ],
   "id": "6584f59ad6059a06"
  },
  {
   "cell_type": "code",
   "execution_count": null,
   "metadata": {
    "id": "lS582g27jNTD",
    "outputId": "03e846de-16c3-4f74-caf5-b11bb2519b91"
   },
   "outputs": [],
   "source": [
    "\n",
    "\n"
   ],
   "id": "a7e509803dd1eab9"
  },
  {
   "cell_type": "markdown",
   "metadata": {
    "id": "FctCYkNBjNTD"
   },
   "source": [
    "### Create colors = [‘red’,’blue’,’orange’], and fruits = [‘orange’,’grapes’,’apples’] "
   ],
   "id": "19b8b57a7f70cea0"
  },
  {
   "cell_type": "code",
   "execution_count": null,
   "metadata": {},
   "outputs": [],
   "source": [],
   "id": "52ad9d05c1660381"
  },
  {
   "cell_type": "markdown",
   "metadata": {
    "id": "kfIRtvphjNTE"
   },
   "source": [
    "Print color and fruits"
   ],
   "id": "e52c6285be594d63"
  },
  {
   "cell_type": "code",
   "execution_count": null,
   "metadata": {
    "id": "q-gavK0-jNTE",
    "outputId": "6e0c3843-3efe-4e88-8a19-616e2cf4bdb3"
   },
   "outputs": [],
   "source": [
    "\n"
   ],
   "id": "f5f4e9054d094a0d"
  },
  {
   "cell_type": "markdown",
   "metadata": {
    "id": "uMOTrWwSjNTE"
   },
   "source": [
    "Create colors_set, and fruits_set. (using set() ) and print them"
   ],
   "id": "d7cb74225c72b8a4"
  },
  {
   "cell_type": "code",
   "execution_count": null,
   "metadata": {},
   "outputs": [],
   "source": [],
   "id": "92150fdbec7de4bf"
  },
  {
   "cell_type": "markdown",
   "metadata": {
    "id": "tW9fj0R1jNTE"
   },
   "source": [
    "Find the union of both the sets."
   ],
   "id": "8bac81944d6df3a5"
  },
  {
   "cell_type": "code",
   "execution_count": null,
   "metadata": {
    "id": "oyskI_CTjNTE",
    "outputId": "4e89c025-10ef-405c-cbd4-f8c1ae2f92b4"
   },
   "outputs": [],
   "source": [
    "\n",
    "\n"
   ],
   "id": "c5f600d198ac7f0a"
  },
  {
   "cell_type": "markdown",
   "metadata": {
    "id": "3yXYgYBLjNTF"
   },
   "source": [
    "Find the intersection of both the sets "
   ],
   "id": "a3ab809336d32321"
  },
  {
   "cell_type": "code",
   "execution_count": null,
   "metadata": {
    "id": "3AzYqu5sjNTF",
    "outputId": "01ae145a-f15b-4a20-b9bc-9d8a25cf1679"
   },
   "outputs": [],
   "source": [
    "\n",
    "\n"
   ],
   "id": "12002cc6a2fa925a"
  },
  {
   "cell_type": "markdown",
   "metadata": {
    "id": "PuhlSjH_jNTF"
   },
   "source": [
    "Find the elements which are Fruits but not colors (using set.difference() )"
   ],
   "id": "b449ba867e915f83"
  },
  {
   "cell_type": "code",
   "execution_count": null,
   "metadata": {
    "id": "gBaxHXrfjNTF",
    "outputId": "2178193f-aae5-4e59-acc1-8bce28e28143"
   },
   "outputs": [],
   "source": [
    "\n",
    "\n"
   ],
   "id": "9faf7c93af2aa744"
  },
  {
   "cell_type": "code",
   "execution_count": null,
   "metadata": {},
   "outputs": [],
   "source": [],
   "id": "29293f82a54b6c8d"
  },
  {
   "cell_type": "markdown",
   "metadata": {
    "id": "hLZeBta3jNTF"
   },
   "source": [
    "## TUPLES"
   ],
   "id": "931fbf6dc9f280f3"
  },
  {
   "cell_type": "markdown",
   "metadata": {
    "id": "Nerhdg66jNTF"
   },
   "source": [
    "### Create temp = [17, ’Virat’, 50.0]"
   ],
   "id": "3630efdf5fa91481"
  },
  {
   "cell_type": "code",
   "execution_count": null,
   "metadata": {},
   "outputs": [],
   "source": [],
   "id": "4205a78926b39f03"
  },
  {
   "cell_type": "markdown",
   "metadata": {
    "id": "C0IuMJFijNTG"
   },
   "source": [
    "Iterate through temp and print all the items in temp"
   ],
   "id": "9bcfb3b89651a258"
  },
  {
   "cell_type": "code",
   "execution_count": null,
   "metadata": {
    "id": "CSKY_cgHjNTG",
    "outputId": "ec834f68-6713-4941-9fc3-dc0e59965222"
   },
   "outputs": [],
   "source": [
    "\n"
   ],
   "id": "f625efc588a14186"
  },
  {
   "cell_type": "markdown",
   "metadata": {
    "id": "gI0kBGQ1jNTG"
   },
   "source": [
    "replace first element with 11 in temp"
   ],
   "id": "b0322bad7573a783"
  },
  {
   "cell_type": "code",
   "execution_count": null,
   "metadata": {
    "id": "p6JCtyOBjNTG"
   },
   "outputs": [],
   "source": [],
   "id": "3aad256deee2001"
  },
  {
   "cell_type": "markdown",
   "metadata": {
    "id": "JV3b34AdjNTG"
   },
   "source": [
    "Set temp1 = tuple(temp)"
   ],
   "id": "4e1f8838559d69f6"
  },
  {
   "cell_type": "code",
   "execution_count": null,
   "metadata": {},
   "outputs": [],
   "source": [],
   "id": "44c920b5b79e20e6"
  },
  {
   "cell_type": "markdown",
   "metadata": {
    "id": "Z9LJWgBkjNTG"
   },
   "source": [
    "Iterate through temp1 and print all the items in temp1. "
   ],
   "id": "bb6a69a11a5bcfde"
  },
  {
   "cell_type": "code",
   "execution_count": null,
   "metadata": {
    "id": "t0v-FZsNjNTH",
    "outputId": "7f98ae38-8bae-4687-f46b-31fb12ac5c6c"
   },
   "outputs": [],
   "source": [
    "\n",
    "\n"
   ],
   "id": "be4f6474918cd507"
  },
  {
   "cell_type": "markdown",
   "metadata": {
    "id": "A4FXMQDfjNTH"
   },
   "source": [
    "replace first element with 17 in temp1"
   ],
   "id": "381022f3c750e7c1"
  },
  {
   "cell_type": "code",
   "execution_count": null,
   "metadata": {
    "id": "eioDSdW8jNTH",
    "outputId": "bf108fa6-bcad-4684-dc24-b9efbfc357a8"
   },
   "outputs": [],
   "source": [
    "\n"
   ],
   "id": "865975dd0a491be3"
  },
  {
   "cell_type": "markdown",
   "metadata": {
    "id": "IuGIObFZjNTH"
   },
   "source": [
    "<b>Oops!! You got an error. Hey Don't worry! Its because Once a tuple is created, you cannot change its values unlike list.</b>"
   ],
   "id": "e420cf0af40b7b42"
  },
  {
   "cell_type": "markdown",
   "metadata": {
    "id": "ExB_cM1ZjNTH"
   },
   "source": [
    "### Create city = (\"Bangalore\", 28.9949521, 72)"
   ],
   "id": "654534a368f3c936"
  },
  {
   "cell_type": "code",
   "execution_count": null,
   "metadata": {
    "id": "fWz52DjjjNTH"
   },
   "outputs": [],
   "source": [],
   "id": "6fca430e16b11fe2"
  },
  {
   "cell_type": "markdown",
   "metadata": {
    "id": "v4ipyqXsjNTH"
   },
   "source": [
    "Print first element of city"
   ],
   "id": "e7964e72d2c9e08b"
  },
  {
   "cell_type": "code",
   "execution_count": null,
   "metadata": {
    "id": "KJHMuFk1jNTI",
    "outputId": "f3915b36-1f5b-4ac1-e2bb-a53f9ce142f8"
   },
   "outputs": [],
   "source": [],
   "id": "b455c80d69cbb604"
  },
  {
   "cell_type": "markdown",
   "metadata": {
    "id": "N5FoHg4ujNTI"
   },
   "source": [
    "Create city2 = (‘Chennai’, 30.01, 74)"
   ],
   "id": "a56faf8bbf64aa6a"
  },
  {
   "cell_type": "code",
   "execution_count": null,
   "metadata": {
    "id": "fYuGqbDEjNTI"
   },
   "outputs": [],
   "source": [],
   "id": "afc02eee6d7dacd5"
  },
  {
   "cell_type": "markdown",
   "metadata": {
    "id": "0gz-HACUjNTI"
   },
   "source": [
    "Create cities which consist of city and city2"
   ],
   "id": "b2d29fef907f7913"
  },
  {
   "cell_type": "code",
   "execution_count": null,
   "metadata": {
    "id": "5dTN1LQPjNTI"
   },
   "outputs": [],
   "source": [],
   "id": "50237828d7d536fa"
  },
  {
   "cell_type": "markdown",
   "metadata": {
    "id": "He-teRi2jNTI"
   },
   "source": [
    "Print cities"
   ],
   "id": "ca414a2d23233845"
  },
  {
   "cell_type": "code",
   "execution_count": null,
   "metadata": {
    "id": "ISySNfxGjNTI",
    "outputId": "bee231a2-a635-496f-b5b7-57795a0fd7ab"
   },
   "outputs": [],
   "source": [],
   "id": "54e6e6b79c467471"
  },
  {
   "cell_type": "markdown",
   "metadata": {
    "id": "brFx6-rtjNTJ"
   },
   "source": [
    "Print type of first element in cities"
   ],
   "id": "ece439df44b875cb"
  },
  {
   "cell_type": "code",
   "execution_count": null,
   "metadata": {
    "id": "CmIifGybjNTJ",
    "outputId": "085cb498-1027-4ce6-8803-904d39050a97"
   },
   "outputs": [],
   "source": [],
   "id": "bf72ec3a29cb39be"
  },
  {
   "cell_type": "markdown",
   "metadata": {
    "id": "jtk8J_yHjNTJ"
   },
   "source": [
    "print the type of cities\n"
   ],
   "id": "a6baafa7f30b482e"
  },
  {
   "cell_type": "code",
   "execution_count": null,
   "metadata": {
    "id": "y9rdG29XjNTJ",
    "outputId": "2d1e34cb-5b76-44b4-e806-9287ee31fa87"
   },
   "outputs": [],
   "source": [],
   "id": "e0716ccd7de7ae2b"
  },
  {
   "cell_type": "markdown",
   "metadata": {
    "id": "uXHSadWqjNTJ"
   },
   "source": [
    "Hey that implies you made a nested tuples!!"
   ],
   "id": "66172df2460827fa"
  },
  {
   "cell_type": "markdown",
   "metadata": {
    "id": "zViY-S_djNTJ"
   },
   "source": [
    "## DICTIONARY"
   ],
   "id": "206b2c146b68d097"
  },
  {
   "cell_type": "markdown",
   "metadata": {
    "id": "4NjUxRaZjNTK"
   },
   "source": [
    "### Create a dictionary d = {\"actor\":\"amir\",\"animal\":\"cat\",\"earth\":2,\"list\":[23,32,12]}"
   ],
   "id": "2c53a3f205cda8cf"
  },
  {
   "cell_type": "code",
   "execution_count": null,
   "metadata": {
    "id": "UCtEFPI4jNTK"
   },
   "outputs": [],
   "source": [],
   "id": "7aebc70cdaf7cad8"
  },
  {
   "cell_type": "markdown",
   "metadata": {
    "id": "OamenDk8jNTK"
   },
   "source": [
    "Print the value of d[0]"
   ],
   "id": "29cfb187054c8b46"
  },
  {
   "cell_type": "code",
   "execution_count": null,
   "metadata": {
    "id": "gion3awcjNTK",
    "outputId": "59a88b33-f80a-4448-8c92-262c242ca689"
   },
   "outputs": [],
   "source": [],
   "id": "2eaf0b6aec8b027f"
  },
  {
   "cell_type": "markdown",
   "metadata": {
    "id": "XYtrrUigjNTK"
   },
   "source": [
    "<b>Oops!! again an error. again a fun fact. Dictionary return the value for key if key is in the dictionary, else throws KeyError\n",
    "and we don't have key 0 here :( </b>"
   ],
   "id": "32d8a3522e82d937"
  },
  {
   "cell_type": "markdown",
   "metadata": {
    "id": "62VXYnw1jNTK"
   },
   "source": [
    "Store the value of d[‘actor’] to a new variable actor."
   ],
   "id": "9a050bec76332ac5"
  },
  {
   "cell_type": "code",
   "execution_count": null,
   "metadata": {
    "id": "kkBfNz81jNTK"
   },
   "outputs": [],
   "source": [
    "\n"
   ],
   "id": "2fe0dee161c4ed11"
  },
  {
   "cell_type": "markdown",
   "metadata": {
    "id": "uFfuF569jNTL"
   },
   "source": [
    "Print the type of actor"
   ],
   "id": "d9e89898f8c3ec6c"
  },
  {
   "cell_type": "code",
   "execution_count": null,
   "metadata": {
    "id": "bKbFXBxyjNTL",
    "outputId": "ec200684-a8ac-403e-9aea-ca06a015a12e"
   },
   "outputs": [],
   "source": [],
   "id": "eb208bdcef2fe357"
  },
  {
   "cell_type": "markdown",
   "metadata": {
    "id": "y549qN04jNTL"
   },
   "source": [
    "Store the value of d[‘list’] in new variable List. "
   ],
   "id": "50c6457a3c7dcfd"
  },
  {
   "cell_type": "code",
   "execution_count": null,
   "metadata": {
    "id": "I7GyOK8DjNTL"
   },
   "outputs": [],
   "source": [],
   "id": "8f18124788a438f8"
  },
  {
   "cell_type": "markdown",
   "metadata": {
    "id": "Ul1YMiuNjNTL"
   },
   "source": [
    "Print the type of List. "
   ],
   "id": "a43a003c37ce69a8"
  },
  {
   "cell_type": "code",
   "execution_count": null,
   "metadata": {
    "id": "V0VdG9y_jNTL",
    "outputId": "ca19430d-bd1d-456a-cb91-c156f73fe9b1"
   },
   "outputs": [],
   "source": [],
   "id": "87fb0b66e2bda58d"
  },
  {
   "cell_type": "markdown",
   "metadata": {
    "id": "A0CEMABhjNTL"
   },
   "source": [
    "Create d1 = { ‘singer’ : ‘Kr$na’ , ‘album’: ‘Still here’, ‘genre’ : ‘hip-hop’}"
   ],
   "id": "9bbcc1a01b227a4a"
  },
  {
   "cell_type": "code",
   "execution_count": null,
   "metadata": {
    "id": "FCGCw5FEjNTL"
   },
   "outputs": [],
   "source": [],
   "id": "7a2d9699c1da36a9"
  },
  {
   "cell_type": "markdown",
   "metadata": {
    "id": "ybGIILrLjNTM"
   },
   "source": [
    "Merge d1 into d."
   ],
   "id": "8c9eb00949d13b3d"
  },
  {
   "cell_type": "code",
   "execution_count": null,
   "metadata": {
    "id": "UmDbbQJPjNTM"
   },
   "outputs": [],
   "source": [],
   "id": "209535c01b69970a"
  },
  {
   "cell_type": "markdown",
   "metadata": {
    "id": "jhAPX45ZjNTM"
   },
   "source": [
    "print d"
   ],
   "id": "3156bd2a2fdf044b"
  },
  {
   "cell_type": "code",
   "execution_count": null,
   "metadata": {
    "id": "785S26ryjNTM",
    "outputId": "82043717-4c5e-4622-8e11-f13d74dd5cc4"
   },
   "outputs": [],
   "source": [],
   "id": "ad57d498f94ba66f"
  },
  {
   "cell_type": "markdown",
   "metadata": {
    "id": "9E852mY2jNTM"
   },
   "source": [
    "Print all the keys in d"
   ],
   "id": "68ec7d01707917ab"
  },
  {
   "cell_type": "code",
   "execution_count": null,
   "metadata": {
    "id": "7K843OrLjNTM",
    "outputId": "4336a57d-eabe-47a7-d910-82c5c8614754"
   },
   "outputs": [],
   "source": [],
   "id": "e1914f23f0310add"
  },
  {
   "cell_type": "markdown",
   "metadata": {
    "id": "fiuzxbGkjNTN"
   },
   "source": [
    "Print all the values in d"
   ],
   "id": "10c29a27dc67c7cf"
  },
  {
   "cell_type": "code",
   "execution_count": null,
   "metadata": {
    "id": "Pyhh6r0pjNTN",
    "outputId": "8d13b380-1e1f-418c-84e6-ac0638a056e2"
   },
   "outputs": [],
   "source": [],
   "id": "3d9e7d86f135d170"
  },
  {
   "cell_type": "markdown",
   "metadata": {
    "id": "XSoe8GWmjNTN"
   },
   "source": [
    "Iterate over d, and print each key, value pair as this - (actor ----> amir)"
   ],
   "id": "23db12b32b45576e"
  },
  {
   "cell_type": "code",
   "execution_count": null,
   "metadata": {
    "id": "O0iW9kiqjNTO",
    "outputId": "d9ab5c07-3de4-4939-dd9e-d6ff75c9aa07"
   },
   "outputs": [],
   "source": [],
   "id": "1471a4a312bb987f"
  },
  {
   "cell_type": "markdown",
   "metadata": {
    "id": "Hhzm-EIsjNTO"
   },
   "source": [
    "count the number of occurences of charachters in string named \"sent\" using dictionary and print the same.\n"
   ],
   "id": "f8583c6c403feac4"
  },
  {
   "cell_type": "code",
   "execution_count": null,
   "metadata": {
    "id": "IvRlvUAljNTP",
    "outputId": "40f08e65-b884-4b00-aaf4-2cacd1083752"
   },
   "outputs": [],
   "source": [
    "\n",
    "\n"
   ],
   "id": "a6136547fb96f5f1"
  },
  {
   "cell_type": "code",
   "execution_count": null,
   "metadata": {
    "id": "ebNwyxUujNTP"
   },
   "outputs": [],
   "source": [],
   "id": "29dd0c22c23ada5d"
  }
 ],
 "metadata": {
  "colab": {
   "collapsed_sections": [],
   "provenance": []
  },
  "kernelspec": {
   "display_name": "Python 3",
   "language": "python",
   "name": "python3"
  },
  "language_info": {
   "codemirror_mode": {
    "name": "ipython",
    "version": 3
   },
   "file_extension": ".py",
   "mimetype": "text/x-python",
   "name": "python",
   "nbconvert_exporter": "python",
   "pygments_lexer": "ipython3",
   "version": "3.7.4"
  }
 },
 "nbformat": 4,
 "nbformat_minor": 5
}
